{
 "cells": [
  {
   "cell_type": "markdown",
   "metadata": {},
   "source": [
    "## Section 5.0\n",
    "\n",
    "We created a gradient boosted decision tree with Python XGboost to predict whether the transactions not meeting our rule based critiera were fraudulent or not. When tested on a holdout set, we found that our model produced a perfect AUC."
   ]
  },
  {
   "cell_type": "code",
   "execution_count": 183,
   "metadata": {},
   "outputs": [
    {
     "name": "stderr",
     "output_type": "stream",
     "text": [
      "C:\\Users\\andrewmauro\\AppData\\Local\\Continuum\\anaconda3\\lib\\site-packages\\numpy\\lib\\arraysetops.py:395: FutureWarning: elementwise comparison failed; returning scalar instead, but in the future will perform elementwise comparison\n",
      "  mask |= (ar1 == a)\n"
     ]
    }
   ],
   "source": [
    "#hour.drop(['nameOrig', 'nameDest'], axis = 1, inplace = True)\n",
    "import pandas as pd\n",
    "import numpy as np\n",
    "from sklearn.metrics import accuracy_score\n",
    "from sklearn.metrics import roc_auc_score\n",
    "from sklearn.cross_validation import train_test_split\n",
    "import xgboost as xgb\n",
    "import matplotlib.pyplot as plt\n",
    "import seaborn as sns\n",
    "import gc\n",
    "import time\n",
    "import pickle\n",
    "%matplotlib inline\n",
    "plt.style.use('ggplot')\n",
    "\n",
    "gc.collect()\n",
    "\n",
    "\n",
    "dtypes = {\n",
    "    \n",
    "    'Unnamed'         :    'uint32',\n",
    "    'step'            :    'uint8',    \n",
    "    'amount'          :    'float32',\n",
    "    'oldbalanceOrg'   :    'float32',\n",
    "    'newbalanceOrig'  :    'float32',\n",
    "    'oldbalanceDest'  :    'float32',\n",
    "    'newbalanceDest'  :    'float32',\n",
    "    'isFraud'         :    'uint8',\n",
    "    'isFlaggedFraud'  :    'uint8',\n",
    "    'day'             :    'uint8',\n",
    "    'hour'            :    'uint8',\n",
    "    'transfer'        :    'uint8',\n",
    "    'cashOut'         :    'uint8',\n",
    "    'origC'           :    'uint8',\n",
    "    'destC'           :    'uint8',\n",
    "    'detect'          :    'uint8',\n",
    "    'AMNB0'           :    'float32',\n",
    "    'AMOBO'           :    'float32',\n",
    "    'AMNBD'           :    'float32',\n",
    "    'AMOBD'           :    'float32',\n",
    "    'NOBRD'           :    'float32'\n",
    "\n",
    "}\n",
    "\n",
    "\n",
    "train = pd.read_csv('train2.csv', dtype = dtypes, index_col = 0)"
   ]
  },
  {
   "cell_type": "code",
   "execution_count": 184,
   "metadata": {
    "collapsed": true
   },
   "outputs": [],
   "source": [
    "#split data into training and holdout\n",
    "#holdout - last 10 days\n",
    "#train - first 20 days\n",
    "holdout = train[(train['day'] > 19)]\n",
    "train = train[(train['day'] <= 19)]\n",
    "y_true = holdout['isFraud']\n",
    "\n",
    "rbHold = holdout[holdout['detect'] == 1]\n",
    "holdout = holdout[holdout['detect'] != 1]\n",
    "train = train[train['detect'] == 1]\n",
    "\n",
    "train.drop('detect', axis = 1, inplace = True)\n",
    "holdout.drop(['detect', 'isFraud'], axis = 1, inplace = True)\n",
    "\n",
    "#print(train.shape, train['isFraud'].mean() * 100,\n",
    "#print(train.shape, train['isFraud'].mean() * 100, holdout.shape,  holdout['isFraud'].mean() * 100)"
   ]
  },
  {
   "cell_type": "code",
   "execution_count": 185,
   "metadata": {},
   "outputs": [
    {
     "name": "stdout",
     "output_type": "stream",
     "text": [
      "[0.0] Start XGBoost Training\n",
      "[0]\ttrain-auc:0.980682\tvalid-auc:1\n",
      "Multiple eval metrics have been passed: 'valid-auc' will be used for early stopping.\n",
      "\n",
      "Will train until valid-auc hasn't improved in 20 rounds.\n"
     ]
    },
    {
     "name": "stderr",
     "output_type": "stream",
     "text": [
      "C:\\Users\\andrewmauro\\AppData\\Local\\Continuum\\anaconda3\\lib\\site-packages\\ipykernel_launcher.py:14: SettingWithCopyWarning: \n",
      "A value is trying to be set on a copy of a slice from a DataFrame\n",
      "\n",
      "See the caveats in the documentation: http://pandas.pydata.org/pandas-docs/stable/indexing.html#indexing-view-versus-copy\n",
      "  \n",
      "C:\\Users\\andrewmauro\\AppData\\Local\\Continuum\\anaconda3\\lib\\site-packages\\ipykernel_launcher.py:19: SettingWithCopyWarning: \n",
      "A value is trying to be set on a copy of a slice from a DataFrame\n",
      "\n",
      "See the caveats in the documentation: http://pandas.pydata.org/pandas-docs/stable/indexing.html#indexing-view-versus-copy\n"
     ]
    },
    {
     "name": "stdout",
     "output_type": "stream",
     "text": [
      "[10]\ttrain-auc:0.999879\tvalid-auc:1\n",
      "[20]\ttrain-auc:0.999956\tvalid-auc:1\n",
      "Stopping. Best iteration:\n",
      "[0]\ttrain-auc:0.980682\tvalid-auc:1\n",
      "\n",
      "[0.19376134872436523] Finish XGBoost Training\n",
      "[0.4553992748260498] Finish XGBoost Predict\n"
     ]
    }
   ],
   "source": [
    "params = {'eta': 0.1, \n",
    "          'max_depth': 2, \n",
    "          'subsample': 0.9, \n",
    "          'colsample_bytree': 0.7, \n",
    "          'colsample_bylevel':0.7,\n",
    "          'min_child_weight':1,\n",
    "          'alpha':4,\n",
    "          'objective': 'binary:logistic', \n",
    "          'eval_metric': 'auc', \n",
    "          'random_state': 99, \n",
    "          'silent': True}\n",
    "          \n",
    "x1 = train[train['day'] <= 14]\n",
    "x1.drop(['isFraud'], axis=1, inplace=True)\n",
    "y1 = train[train['day'] <= 14]\n",
    "y1 = y1['isFraud']\n",
    "\n",
    "x2 = train[train['day'] > 14]\n",
    "x2.drop(['isFraud'], axis=1, inplace=True)\n",
    "y2 = train[train['day'] > 14]\n",
    "y2 = y2['isFraud']\n",
    "\n",
    "trainSplit = xgb.DMatrix(x1, y1)\n",
    "testSplit = xgb.DMatrix(x2, y2)\n",
    "\n",
    "start_time = time.time()\n",
    "start_time = time.time()\n",
    "print('[{}] Start XGBoost Training'.format(time.time() - start_time))\n",
    "\n",
    "#del train\n",
    "gc.collect()\n",
    "\n",
    "watchlist = [(trainSplit, 'train'), (testSplit, 'valid')]\n",
    "model = xgb.train(params, trainSplit, 200, watchlist, maximize=True, verbose_eval=10, early_stopping_rounds = 20)\n",
    "\n",
    "print('[{}] Finish XGBoost Training'.format(time.time() - start_time))\n",
    "\n",
    "preds = model.predict(xgb.DMatrix(holdout), ntree_limit=model.best_ntree_limit)\n",
    "\n",
    "print('[{}] Finish XGBoost Predict'.format(time.time() - start_time))"
   ]
  },
  {
   "cell_type": "code",
   "execution_count": 186,
   "metadata": {},
   "outputs": [
    {
     "data": {
      "text/plain": [
       "<matplotlib.axes._subplots.AxesSubplot at 0x1f288486cf8>"
      ]
     },
     "execution_count": 186,
     "metadata": {},
     "output_type": "execute_result"
    },
    {
     "data": {
      "image/png": "[encoded data removed]",
      "text/plain": [
       "<matplotlib.figure.Figure at 0x1f2883ff7b8>"
      ]
     },
     "metadata": {},
     "output_type": "display_data"
    }
   ],
   "source": [
    "%matplotlib inline\n",
    "xgb.plot_importance(model)"
   ]
  },
  {
   "cell_type": "code",
   "execution_count": 187,
   "metadata": {},
   "outputs": [
    {
     "data": {
      "text/plain": [
       "32"
      ]
     },
     "execution_count": 187,
     "metadata": {},
     "output_type": "execute_result"
    }
   ],
   "source": [
    "#store all information in holdout\n",
    "holdout['model'] = np.where(preds > .55, 1, 0)\n",
    "holdout = holdout.append(rbHold)\n",
    "holdout['isFraud'] = y_true\n",
    "holdout['pred'] = np.where(holdout['detect'] == 1, 1, holdout['model'])\n",
    "del y_true\n",
    "gc.collect()"
   ]
  },
  {
   "cell_type": "code",
   "execution_count": 188,
   "metadata": {},
   "outputs": [
    {
     "data": {
      "text/plain": [
       "1.0"
      ]
     },
     "execution_count": 188,
     "metadata": {},
     "output_type": "execute_result"
    }
   ],
   "source": [
    "roc_auc_score(y_true = holdout['isFraud'], y_score = holdout['pred'])"
   ]
  },
  {
   "cell_type": "code",
   "execution_count": 189,
   "metadata": {},
   "outputs": [
    {
     "data": {
      "text/html": [
       "<div>\n",
       "<style>\n",
       "    .dataframe thead tr:only-child th {\n",
       "        text-align: right;\n",
       "    }\n",
       "\n",
       "    .dataframe thead th {\n",
       "        text-align: left;\n",
       "    }\n",
       "\n",
       "    .dataframe tbody tr th {\n",
       "        vertical-align: top;\n",
       "    }\n",
       "</style>\n",
       "<table border=\"1\" class=\"dataframe\">\n",
       "  <thead>\n",
       "    <tr style=\"text-align: right;\">\n",
       "      <th></th>\n",
       "      <th>AMNB0</th>\n",
       "      <th>AMNBD</th>\n",
       "      <th>AMOBD</th>\n",
       "      <th>AMOBO</th>\n",
       "      <th>NOBRD</th>\n",
       "      <th>amount</th>\n",
       "      <th>cashOut</th>\n",
       "      <th>day</th>\n",
       "      <th>destC</th>\n",
       "      <th>detect</th>\n",
       "      <th>...</th>\n",
       "      <th>isFraud</th>\n",
       "      <th>model</th>\n",
       "      <th>newbalanceDest</th>\n",
       "      <th>newbalanceOrig</th>\n",
       "      <th>oldbalanceDest</th>\n",
       "      <th>oldbalanceOrg</th>\n",
       "      <th>origC</th>\n",
       "      <th>step</th>\n",
       "      <th>transfer</th>\n",
       "      <th>pred</th>\n",
       "    </tr>\n",
       "  </thead>\n",
       "  <tbody>\n",
       "  </tbody>\n",
       "</table>\n",
       "<p>0 rows × 22 columns</p>\n",
       "</div>"
      ],
      "text/plain": [
       "Empty DataFrame\n",
       "Columns: [AMNB0, AMNBD, AMOBD, AMOBO, NOBRD, amount, cashOut, day, destC, detect, hour, isFlaggedFraud, isFraud, model, newbalanceDest, newbalanceOrig, oldbalanceDest, oldbalanceOrg, origC, step, transfer, pred]\n",
       "Index: []\n",
       "\n",
       "[0 rows x 22 columns]"
      ]
     },
     "execution_count": 189,
     "metadata": {},
     "output_type": "execute_result"
    }
   ],
   "source": [
    "#No false negatives\n",
    "holdout[(holdout['isFraud'] == 1) & (holdout['pred'] != 1)]"
   ]
  },
  {
   "cell_type": "code",
   "execution_count": 191,
   "metadata": {},
   "outputs": [
    {
     "data": {
      "text/html": [
       "<div>\n",
       "<style>\n",
       "    .dataframe thead tr:only-child th {\n",
       "        text-align: right;\n",
       "    }\n",
       "\n",
       "    .dataframe thead th {\n",
       "        text-align: left;\n",
       "    }\n",
       "\n",
       "    .dataframe tbody tr th {\n",
       "        vertical-align: top;\n",
       "    }\n",
       "</style>\n",
       "<table border=\"1\" class=\"dataframe\">\n",
       "  <thead>\n",
       "    <tr style=\"text-align: right;\">\n",
       "      <th></th>\n",
       "      <th>AMNB0</th>\n",
       "      <th>AMNBD</th>\n",
       "      <th>AMOBD</th>\n",
       "      <th>AMOBO</th>\n",
       "      <th>NOBRD</th>\n",
       "      <th>amount</th>\n",
       "      <th>cashOut</th>\n",
       "      <th>day</th>\n",
       "      <th>destC</th>\n",
       "      <th>detect</th>\n",
       "      <th>...</th>\n",
       "      <th>isFraud</th>\n",
       "      <th>model</th>\n",
       "      <th>newbalanceDest</th>\n",
       "      <th>newbalanceOrig</th>\n",
       "      <th>oldbalanceDest</th>\n",
       "      <th>oldbalanceOrg</th>\n",
       "      <th>origC</th>\n",
       "      <th>step</th>\n",
       "      <th>transfer</th>\n",
       "      <th>pred</th>\n",
       "    </tr>\n",
       "  </thead>\n",
       "  <tbody>\n",
       "  </tbody>\n",
       "</table>\n",
       "<p>0 rows × 22 columns</p>\n",
       "</div>"
      ],
      "text/plain": [
       "Empty DataFrame\n",
       "Columns: [AMNB0, AMNBD, AMOBD, AMOBO, NOBRD, amount, cashOut, day, destC, detect, hour, isFlaggedFraud, isFraud, model, newbalanceDest, newbalanceOrig, oldbalanceDest, oldbalanceOrg, origC, step, transfer, pred]\n",
       "Index: []\n",
       "\n",
       "[0 rows x 22 columns]"
      ]
     },
     "execution_count": 191,
     "metadata": {},
     "output_type": "execute_result"
    }
   ],
   "source": [
    "#No False Positives\n",
    "holdout[(holdout['isFraud'] == 0) & (holdout['pred'] == 1)]"
   ]
  }
 ],
 "metadata": {
  "kernelspec": {
   "display_name": "Python 3",
   "language": "python",
   "name": "python3"
  },
  "language_info": {
   "codemirror_mode": {
    "name": "ipython",
    "version": 3
   },
   "file_extension": ".py",
   "mimetype": "text/x-python",
   "name": "python",
   "nbconvert_exporter": "python",
   "pygments_lexer": "ipython3",
   "version": "3.6.3"
  }
 },
 "nbformat": 4,
 "nbformat_minor": 2
}
